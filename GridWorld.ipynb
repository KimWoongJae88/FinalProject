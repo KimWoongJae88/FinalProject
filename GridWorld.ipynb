{
 "cells": [
  {
   "cell_type": "code",
   "execution_count": 1,
   "id": "62f50b23",
   "metadata": {},
   "outputs": [],
   "source": [
    "import random\n",
    "import numpy as np"
   ]
  },
  {
   "cell_type": "markdown",
   "id": "6d0078f4",
   "metadata": {},
   "source": [
    "##  - Grid World 클래스"
   ]
  },
  {
   "cell_type": "code",
   "execution_count": 2,
   "id": "736904f9",
   "metadata": {},
   "outputs": [],
   "source": [
    "class GridWorld():\n",
    "    def __init__(self):\n",
    "        self.x=0\n",
    "        self.y=0\n",
    "    def step(self, a):\n",
    "        if a == 0:\n",
    "            self.move_right()\n",
    "        elif a == 1:\n",
    "            self.move_left()\n",
    "        elif a == 2:\n",
    "            self.move_up()\n",
    "        elif a == 3:\n",
    "            self.move_down()\n",
    "            \n",
    "        reward = -1\n",
    "        done = self.is_done()\n",
    "        return (self.x, self.y), reward, done\n",
    "    \n",
    "    def move_right(self):\n",
    "        self.y += 1\n",
    "        if self.y > 3:\n",
    "            self.y = 3\n",
    "    \n",
    "    def move_left(self):\n",
    "        self.y -= 1\n",
    "        if self.y < 0:\n",
    "            self.y = 0\n",
    "    def move_up(self):\n",
    "        self.x -= 1\n",
    "        if self.x < 0:\n",
    "            self.x = 0\n",
    "    def move_down(self):\n",
    "        self.x += 1\n",
    "        if self.x > 3:\n",
    "            self.x = 3\n",
    "    \n",
    "    def is_done(self):\n",
    "        if self.y == 3 and self.y == 3:\n",
    "            return True\n",
    "        else:\n",
    "            return False\n",
    "    def get_state(self):\n",
    "        return (self.x, self.y)\n",
    "    \n",
    "    def reset(self):\n",
    "        self.x = 0 \n",
    "        self.y = 0\n",
    "        return (self.x, self.y)"
   ]
  },
  {
   "cell_type": "markdown",
   "id": "7a667aee",
   "metadata": {},
   "source": [
    "## - Agent 클래스"
   ]
  },
  {
   "cell_type": "code",
   "execution_count": 3,
   "id": "2d454f8b",
   "metadata": {},
   "outputs": [],
   "source": [
    "class Agent():\n",
    "    def __init__(self):\n",
    "        pass\n",
    "    \n",
    "    def select_action(self):\n",
    "        coin = random.random()\n",
    "        if coin < 0.25:\n",
    "            action = 0\n",
    "        elif coin < 0.5:\n",
    "            action = 1\n",
    "        elif coin < 0.75:\n",
    "            action = 2\n",
    "        else:\n",
    "            action = 3\n",
    "        return action"
   ]
  },
  {
   "cell_type": "markdown",
   "id": "f2f90341",
   "metadata": {},
   "source": [
    "## - 메인 함수"
   ]
  },
  {
   "cell_type": "code",
   "execution_count": 5,
   "id": "8cfd3a1f",
   "metadata": {},
   "outputs": [
    {
     "name": "stdout",
     "output_type": "stream",
     "text": [
      "[-23.28972036884313, -19.903743850788317, -12.025173518669662, 0.0]\n",
      "[-23.66947502419671, -19.98847614077669, -12.100832501208572, 0.0]\n",
      "[-23.80809042991474, -19.868550236469414, -11.688933722294157, 0.0]\n",
      "[-23.825539834505868, -19.886788032013296, -11.630088017102056, 0.0]\n"
     ]
    }
   ],
   "source": [
    "def main():\n",
    "    env = GridWorld()\n",
    "    agent = Agent()\n",
    "    data = [[0,0,0,0],[0,0,0,0],[0,0,0,0],[0,0,0,0]] # 테이블 초기화\n",
    "    gamma = 1.0\n",
    "    alpha = 0.0001\n",
    "    \n",
    "    for k in range(50000): # 총 5만 번의 에피소드 진행\n",
    "        done = False\n",
    "        history = []\n",
    "        while not done:\n",
    "            action = agent.select_action()\n",
    "            (x,y), reward, done = env.step(action)\n",
    "            history.append((x,y,reward))\n",
    "        env.reset()\n",
    "        \n",
    "        # 매 에피소드가 끝나고 바로 해당 데이터를 이용해 테이블을 업데이트\n",
    "        cum_reward = 0\n",
    "        for transition in history[::-1]:\n",
    "            # 방문했던 상태들을 뒤에서부터 보며 차레차례 리턴을 계산\n",
    "            x, y, reward = transition\n",
    "            data[x][y] = data[x][y] + alpha*(cum_reward-data[x][y])\n",
    "            cum_reward = reward + gamma*cum_reward\n",
    "            \n",
    "    # 학습이 끝나고 난 후 데이터를 출력해보기 위한 코드\n",
    "    for row in data:\n",
    "        print(row)\n",
    "if __name__ == '__main__':\n",
    "    main()"
   ]
  },
  {
   "cell_type": "code",
   "execution_count": null,
   "id": "ac9057be",
   "metadata": {},
   "outputs": [],
   "source": []
  }
 ],
 "metadata": {
  "kernelspec": {
   "display_name": "Python 3 (ipykernel)",
   "language": "python",
   "name": "python3"
  },
  "language_info": {
   "codemirror_mode": {
    "name": "ipython",
    "version": 3
   },
   "file_extension": ".py",
   "mimetype": "text/x-python",
   "name": "python",
   "nbconvert_exporter": "python",
   "pygments_lexer": "ipython3",
   "version": "3.8.15"
  }
 },
 "nbformat": 4,
 "nbformat_minor": 5
}
