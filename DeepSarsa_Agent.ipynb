{
 "cells": [
  {
   "cell_type": "code",
   "execution_count": 1,
   "id": "ff5db117",
   "metadata": {
    "scrolled": true
   },
   "outputs": [
    {
     "name": "stdout",
     "output_type": "stream",
     "text": [
      "episode:   0 | score:   1 | epsilon: 0.999\n"
     ]
    },
    {
     "data": {
      "image/png": "[encoded data removed]",
      "text/plain": [
       "<Figure size 640x480 with 1 Axes>"
      ]
     },
     "metadata": {},
     "output_type": "display_data"
    },
    {
     "name": "stdout",
     "output_type": "stream",
     "text": [
      "tf.Tensor([[ 0.13989052 -0.6147008  -0.3598695   0.02612967 -0.25860947]], shape=(1, 5), dtype=float32)\n"
     ]
    },
    {
     "ename": "TclError",
     "evalue": "invalid command name \".!canvas\"",
     "output_type": "error",
     "traceback": [
      "\u001b[1;31m---------------------------------------------------------------------------\u001b[0m",
      "\u001b[1;31mTclError\u001b[0m                                  Traceback (most recent call last)",
      "Cell \u001b[1;32mIn [1], line 99\u001b[0m\n\u001b[0;32m     96\u001b[0m action \u001b[38;5;241m=\u001b[39m agent\u001b[38;5;241m.\u001b[39mget_action(state)\n\u001b[0;32m     98\u001b[0m \u001b[38;5;66;03m# 선택한 행동으로 환경에서 한 타임스텝 진행 후 샘플 수집\u001b[39;00m\n\u001b[1;32m---> 99\u001b[0m next_state, reward, done \u001b[38;5;241m=\u001b[39m \u001b[43menv\u001b[49m\u001b[38;5;241;43m.\u001b[39;49m\u001b[43mstep\u001b[49m\u001b[43m(\u001b[49m\u001b[43maction\u001b[49m\u001b[43m)\u001b[49m\n\u001b[0;32m    100\u001b[0m next_state \u001b[38;5;241m=\u001b[39m np\u001b[38;5;241m.\u001b[39mreshape(next_state, [\u001b[38;5;241m1\u001b[39m, state_size])\n\u001b[0;32m    101\u001b[0m next_action \u001b[38;5;241m=\u001b[39m agent\u001b[38;5;241m.\u001b[39mget_action(next_state)\n",
      "File \u001b[1;32m~\\minigame\\reinforcement-learning-kr-v2-master\\1-grid-world\\5-deep-sarsa\\environment.py:141\u001b[0m, in \u001b[0;36mEnv.step\u001b[1;34m(self, action)\u001b[0m\n\u001b[0;32m    138\u001b[0m \u001b[38;5;28;01mif\u001b[39;00m \u001b[38;5;28mself\u001b[39m\u001b[38;5;241m.\u001b[39mcounter \u001b[38;5;241m%\u001b[39m \u001b[38;5;241m2\u001b[39m \u001b[38;5;241m==\u001b[39m \u001b[38;5;241m1\u001b[39m:\n\u001b[0;32m    139\u001b[0m     \u001b[38;5;28mself\u001b[39m\u001b[38;5;241m.\u001b[39mrewards \u001b[38;5;241m=\u001b[39m \u001b[38;5;28mself\u001b[39m\u001b[38;5;241m.\u001b[39mmove_rewards()\n\u001b[1;32m--> 141\u001b[0m next_coords \u001b[38;5;241m=\u001b[39m \u001b[38;5;28;43mself\u001b[39;49m\u001b[38;5;241;43m.\u001b[39;49m\u001b[43mmove\u001b[49m\u001b[43m(\u001b[49m\u001b[38;5;28;43mself\u001b[39;49m\u001b[38;5;241;43m.\u001b[39;49m\u001b[43mrectangle\u001b[49m\u001b[43m,\u001b[49m\u001b[43m \u001b[49m\u001b[43maction\u001b[49m\u001b[43m)\u001b[49m\n\u001b[0;32m    142\u001b[0m check \u001b[38;5;241m=\u001b[39m \u001b[38;5;28mself\u001b[39m\u001b[38;5;241m.\u001b[39mcheck_if_reward(\u001b[38;5;28mself\u001b[39m\u001b[38;5;241m.\u001b[39mcoords_to_state(next_coords))\n\u001b[0;32m    143\u001b[0m done \u001b[38;5;241m=\u001b[39m check[\u001b[38;5;124m'\u001b[39m\u001b[38;5;124mif_goal\u001b[39m\u001b[38;5;124m'\u001b[39m]\n",
      "File \u001b[1;32m~\\minigame\\reinforcement-learning-kr-v2-master\\1-grid-world\\5-deep-sarsa\\environment.py:210\u001b[0m, in \u001b[0;36mEnv.move\u001b[1;34m(self, target, action)\u001b[0m\n\u001b[0;32m    209\u001b[0m \u001b[38;5;28;01mdef\u001b[39;00m \u001b[38;5;21mmove\u001b[39m(\u001b[38;5;28mself\u001b[39m, target, action):\n\u001b[1;32m--> 210\u001b[0m     s \u001b[38;5;241m=\u001b[39m \u001b[38;5;28;43mself\u001b[39;49m\u001b[38;5;241;43m.\u001b[39;49m\u001b[43mcanvas\u001b[49m\u001b[38;5;241;43m.\u001b[39;49m\u001b[43mcoords\u001b[49m\u001b[43m(\u001b[49m\u001b[43mtarget\u001b[49m\u001b[43m)\u001b[49m\n\u001b[0;32m    212\u001b[0m     base_action \u001b[38;5;241m=\u001b[39m np\u001b[38;5;241m.\u001b[39marray([\u001b[38;5;241m0\u001b[39m, \u001b[38;5;241m0\u001b[39m])\n\u001b[0;32m    214\u001b[0m     \u001b[38;5;28;01mif\u001b[39;00m action \u001b[38;5;241m==\u001b[39m \u001b[38;5;241m0\u001b[39m:  \u001b[38;5;66;03m# 상\u001b[39;00m\n",
      "File \u001b[1;32mC:\\ProgramData\\Anaconda3\\envs\\minigame\\lib\\tkinter\\__init__.py:2766\u001b[0m, in \u001b[0;36mCanvas.coords\u001b[1;34m(self, *args)\u001b[0m\n\u001b[0;32m   2762\u001b[0m \u001b[38;5;124;03m\"\"\"Return a list of coordinates for the item given in ARGS.\"\"\"\u001b[39;00m\n\u001b[0;32m   2763\u001b[0m \u001b[38;5;66;03m# XXX Should use _flatten on args\u001b[39;00m\n\u001b[0;32m   2764\u001b[0m \u001b[38;5;28;01mreturn\u001b[39;00m [\u001b[38;5;28mself\u001b[39m\u001b[38;5;241m.\u001b[39mtk\u001b[38;5;241m.\u001b[39mgetdouble(x) \u001b[38;5;28;01mfor\u001b[39;00m x \u001b[38;5;129;01min\u001b[39;00m\n\u001b[0;32m   2765\u001b[0m                    \u001b[38;5;28mself\u001b[39m\u001b[38;5;241m.\u001b[39mtk\u001b[38;5;241m.\u001b[39msplitlist(\n\u001b[1;32m-> 2766\u001b[0m            \u001b[38;5;28;43mself\u001b[39;49m\u001b[38;5;241;43m.\u001b[39;49m\u001b[43mtk\u001b[49m\u001b[38;5;241;43m.\u001b[39;49m\u001b[43mcall\u001b[49m\u001b[43m(\u001b[49m\u001b[43m(\u001b[49m\u001b[38;5;28;43mself\u001b[39;49m\u001b[38;5;241;43m.\u001b[39;49m\u001b[43m_w\u001b[49m\u001b[43m,\u001b[49m\u001b[43m \u001b[49m\u001b[38;5;124;43m'\u001b[39;49m\u001b[38;5;124;43mcoords\u001b[39;49m\u001b[38;5;124;43m'\u001b[39;49m\u001b[43m)\u001b[49m\u001b[43m \u001b[49m\u001b[38;5;241;43m+\u001b[39;49m\u001b[43m \u001b[49m\u001b[43margs\u001b[49m\u001b[43m)\u001b[49m)]\n",
      "\u001b[1;31mTclError\u001b[0m: invalid command name \".!canvas\""
     ]
    }
   ],
   "source": [
    "import copy\n",
    "import pylab\n",
    "import random\n",
    "import numpy as np\n",
    "from environment_deepsarsa import Env\n",
    "import tensorflow as tf\n",
    "from tensorflow.keras.layers import Dense\n",
    "from tensorflow.keras.optimizers import Adam\n",
    "\n",
    "\n",
    "# 딥살사 인공신경망\n",
    "class DeepSARSA(tf.keras.Model):\n",
    "    def __init__(self, action_size):  # action_size = 5\n",
    "        super(DeepSARSA, self).__init__()\n",
    "        self.fc1 = Dense(30, activation='relu')\n",
    "        self.fc2 = Dense(30, activation='relu')\n",
    "        self.fc_out = Dense(action_size)  # 출력층은 5개로\n",
    "\n",
    "    def call(self, x):  \n",
    "        x = self.fc1(x)  # x를 입력받아 x를 출력\n",
    "        x = self.fc2(x)\n",
    "        q = self.fc_out(x)\n",
    "        return q\n",
    "\n",
    "\n",
    "# 그리드월드 예제에서의 딥살사 에이전트\n",
    "class DeepSARSAgent:\n",
    "    def __init__(self, state_size, action_size):\n",
    "        # 상태의 크기와 행동의 크기 정의\n",
    "        self.state_size = state_size\n",
    "        self.action_size = action_size\n",
    "        \n",
    "        # 딥살사 하이퍼 파라메터\n",
    "        self.discount_factor = 0.99\n",
    "        self.learning_rate = 0.001\n",
    "        self.epsilon = 1.  \n",
    "        self.epsilon_decay = 0.9999\n",
    "        self.epsilon_min = 0.01\n",
    "        self.model = DeepSARSA(self.action_size)  # 위에 모델\n",
    "        self.optimizer = Adam(learning_rate=self.learning_rate)  # Adam 이라는 수식에 learning_rate 의 걸음을 넣어줌\n",
    "\n",
    "    # 입실론 탐욕 정책으로 행동 선택\n",
    "    def get_action(self, state):\n",
    "        if np.random.rand() <= self.epsilon:  # 입실론 값보다 작거나 같은 값이 뽑히면\n",
    "            return random.randrange(self.action_size)  # [0, 1, 2, 3, 4] 중에 임의로 이동\n",
    "        else:\n",
    "            q_values = self.model(state)  # 아니면 self.model()에 state(15개의 입력을 넣어준다)를 def_call에 x가 곧 state임\n",
    "            return np.argmax(q_values[0])  # [[[],[]]][0] = [[],[]]\n",
    "\n",
    "    # <s, a, r, s', a'>의 샘플로부터 모델 업데이트\n",
    "    def train_model(self, state, action, reward, next_state, next_action, done):\n",
    "        if self.epsilon > self.epsilon_min:\n",
    "            self.epsilon *= self.epsilon_decay  # 현재 입실론이 0.01보다 크면 0.9999를 곱해준다 \n",
    "\n",
    "        # 학습 파라메터\n",
    "        model_params = self.model.trainable_variables  # trainable_variables에 의해 임의이 값이 w가중치로 들어가서 계산이 시작된다. // 15개가 30개로 들어가고 30개가 30개로 중간중간 b가 더해지는\n",
    "        with tf.GradientTape() as tape:  # 잘모르겠음\n",
    "            tape.watch(model_params)  # 잘모르겠음\n",
    "            predict = self.model(state)[0]  # 다섯개의 소수점이 2차원 리스트로 나오므로 1차원으로 뽑기위해 0\n",
    "            one_hot_action = tf.one_hot([action], self.action_size)  # 액션은 1,2,3,4,5중에서 하나를 뽑고 [1,2,3,4,5]에서 나온값을 제외하고 0으로 바꿔준다 나온건 1\n",
    "            predict = tf.reduce_sum(one_hot_action * predict, axis=1)  # 다시 소수점으로 바꿔주고 1이었던 남은 소수점하나만 살리기위해 더해줌\n",
    "\n",
    "            # done = True 일 경우 에피소드가 끝나서 다음 상태가 없음\n",
    "            next_q = self.model(next_state)[0][next_action]  # 2차원리스트에서 1차원으로 바꿔준 다섯개의 상태에서 다음 행동 하나를 선택해서 밑으로 보내주고\n",
    "            target = reward + (1 - done) * self.discount_factor * next_q\n",
    "\n",
    "            # MSE 오류 함수 계산\n",
    "            loss = tf.reduce_mean(tf.square(target - predict))  # reduce_mean 1차원리스트를 빼준다.\n",
    "        \n",
    "        # 오류함수를 줄이는 방향으로 모델 업데이트\n",
    "        grads = tape.gradient(loss, model_params)  # model_params의 6가지 가중치에 오류함수와 gradient를 통해서 가중치에 대한 비율를 구해주고 \n",
    "        self.optimizer.apply_gradients(zip(grads, model_params))  # grads 에 저장된 각각의 비중과 가중치를 apply_gradients를 이용해서 업데이트해준다.\n",
    "\n",
    "\n",
    "if __name__ == \"__main__\":\n",
    "    # 환경과 에이전트 생성\n",
    "    env = Env(render_speed=0.01)\n",
    "    state_size = 15\n",
    "    action_space = [0, 1, 2, 3, 4]\n",
    "    action_size = len(action_space)\n",
    "    agent = DeepSARSAgent(state_size, action_size)\n",
    "    \n",
    "    scores, episodes = [], []\n",
    "\n",
    "    EPISODES = 5\n",
    "    for e in range(EPISODES):\n",
    "        done = False\n",
    "        score = 0\n",
    "        # env 초기화\n",
    "        state = env.reset()ㄴ\n",
    "        state = np.reshape(state, [1, state_size])\n",
    "\n",
    "        while not done:\n",
    "            # 현재 상태에 대한 행동 선택\n",
    "            action = agent.get_action(state)\n",
    "            # 선택한 행동으로 환경에서 한 타임스텝 진행 후 샘플 수집\n",
    "            next_state, reward, done = env.step(action)\n",
    "            next_state = np.reshape(next_state, [1, state_size])\n",
    "            next_action = agent.get_action(next_state)\n",
    "\n",
    "            # 샘플로 모델 학습\n",
    "            agent.train_model(state, action, reward, next_state, \n",
    "                                next_action, done)\n",
    "            score += reward\n",
    "            state = next_state\n",
    "\n",
    "            if done:\n",
    "                # 에피소드마다 학습 결과 출력\n",
    "                print(\"episode: {:3d} | score: {:3d} | epsilon: {:.3f}\".format(\n",
    "                      e, score, agent.epsilon))\n",
    "\n",
    "                scores.append(score)\n",
    "                episodes.append(e)\n",
    "                pylab.plot(episodes, scores, 'b')\n",
    "                pylab.xlabel(\"episode\")\n",
    "                pylab.ylabel(\"score\")\n",
    "                pylab.savefig(\"./save_graph/graph.png\")\n",
    "                pylab.show()\n",
    "\n",
    "\n",
    "\n",
    "        # 100 에피소드마다 모델 저장\n",
    "        if e % 100 == 0:\n",
    "            agent.model.save_weights('save_model/model', save_format='tf')"
   ]
  },
  {
   "cell_type": "code",
   "execution_count": 11,
   "id": "cb2fadf0",
   "metadata": {},
   "outputs": [
    {
     "data": {
      "text/plain": [
       "2"
      ]
     },
     "execution_count": 11,
     "metadata": {},
     "output_type": "execute_result"
    }
   ],
   "source": [
    "np.argmax([[-0.55592585], [-0.7712781],   [0.9211373] , [-0.8641545] , [-0.3696173 ]])"
   ]
  },
  {
   "cell_type": "code",
   "execution_count": null,
   "id": "2b463481",
   "metadata": {},
   "outputs": [],
   "source": []
  }
 ],
 "metadata": {
  "kernelspec": {
   "display_name": "Python 3 (ipykernel)",
   "language": "python",
   "name": "python3"
  },
  "language_info": {
   "codemirror_mode": {
    "name": "ipython",
    "version": 3
   },
   "file_extension": ".py",
   "mimetype": "text/x-python",
   "name": "python",
   "nbconvert_exporter": "python",
   "pygments_lexer": "ipython3",
   "version": "3.8.15"
  }
 },
 "nbformat": 4,
 "nbformat_minor": 5
}
