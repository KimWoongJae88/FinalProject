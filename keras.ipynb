{
 "cells": [
  {
   "cell_type": "code",
   "execution_count": 1,
   "id": "03d5edda",
   "metadata": {},
   "outputs": [],
   "source": [
    "import tensorflow as tf\n",
    "from tensorflow.keras.layers import Dense\n",
    "from tensorflow.keras.optimizers import Adam"
   ]
  },
  {
   "cell_type": "code",
   "execution_count": 2,
   "id": "50ca57fa",
   "metadata": {},
   "outputs": [],
   "source": [
    "# 인공신경망 모델 정의\n",
    "class Model(tf.keras.Model):\n",
    "    def __init__(self):\n",
    "        super(Model, self).__init__()\n",
    "        self.input_layer = Dense(256, activation='relu', input_shape=(784,))\n",
    "        self.hidden_layer = Dense(128, activation='relu')        \n",
    "        self.output_layer = Dense(10, activation='softmax')        \n",
    "    \n",
    "    def call(self, x):\n",
    "        x = self.input_layer(x)\n",
    "        x = self.hidden_layer(x)\n",
    "        output = self.output_layer(x)\n",
    "        return output"
   ]
  },
  {
   "cell_type": "code",
   "execution_count": 3,
   "id": "6f042fb8",
   "metadata": {},
   "outputs": [],
   "source": [
    "if __name__ == \"__main__\":\n",
    "    # 모델, 오류함수, 옵티마이저 생성\n",
    "    model = Model()\n",
    "    cross_entropy = tf.keras.losses.CategoricalCrossentropy(from_logits=False)\n",
    "    optimizer = Adam(1e-4)\n",
    "    \n",
    "    # 데이터 불러오기\n",
    "    mnist = tf.keras.datasets.fashion_mnist\n",
    "    (x_train, y_train), (x_test, y_test) = mnist.load_data()\n",
    "    # 0 ~ 255 범위의 픽셀값을 0 ~ 1 로 노멀라이즈\n",
    "    x_train, x_test = x_train / 255.0, x_test / 255.0\n",
    "   \n",
    "    # 미니배치 사이즈 설정\n",
    "    batch_size = 32\n",
    "    num_train_data = x_train.shape[0]\n",
    "    num_test_data = x_test.shape[0]\n",
    "    \n",
    "    num_epoch = 1\n",
    "    for e in range(num_epoch):\n",
    "        # 에포크 동안 훈련진행\n",
    "        for i in range(num_train_data // batch_size):\n",
    "            # 미니배치 하나만큼 데이터 가져오기\n",
    "            x_batch = x_train[i * batch_size:(i + 1) * batch_size]\n",
    "            y_batch = y_train[i * batch_size:(i + 1) * batch_size]\n",
    "\n",
    "            # batch_size, 28, 28을  batch_size, 28, 28, -1 로 shape 변경\n",
    "            x_batch = x_batch.reshape(-1, 28*28)\n",
    "\n",
    "            # 정답을 원핫인코딩으로 변경\n",
    "            y_batch = tf.one_hot(y_batch, 10)\n",
    "\n",
    "            # 계산 과정을 기록하기 위한 tape scope 선언\n",
    "            model_params = model.trainable_variables\n",
    "            with tf.GradientTape() as tape:\n",
    "                # 모델을 통한 예측\n",
    "                predicts = model(x_batch)\n",
    "                # 오차함수 계산\n",
    "                losses = cross_entropy(predicts, y_batch)\n",
    "                \n",
    "            # tape를 통한 그레이언트 계산\n",
    "            grads = tape.gradient(losses, model_params)\n",
    "            # 계산한 그레이디언트를 통해 모델을 업데이트\n",
    "            optimizer.apply_gradients(zip(grads, model_params))"
   ]
  },
  {
   "cell_type": "code",
   "execution_count": null,
   "id": "8645aeac",
   "metadata": {},
   "outputs": [],
   "source": []
  }
 ],
 "metadata": {
  "kernelspec": {
   "display_name": "Python 3 (ipykernel)",
   "language": "python",
   "name": "python3"
  },
  "language_info": {
   "codemirror_mode": {
    "name": "ipython",
    "version": 3
   },
   "file_extension": ".py",
   "mimetype": "text/x-python",
   "name": "python",
   "nbconvert_exporter": "python",
   "pygments_lexer": "ipython3",
   "version": "3.9.15"
  }
 },
 "nbformat": 4,
 "nbformat_minor": 5
}
